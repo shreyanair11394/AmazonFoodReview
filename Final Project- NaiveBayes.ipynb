{
 "cells": [
  {
   "cell_type": "code",
   "execution_count": 1,
   "metadata": {},
   "outputs": [],
   "source": [
    "import warnings\n",
    "warnings.filterwarnings(\"ignore\")\n",
    "\n",
    "import pandas as pd\n",
    "import numpy as np\n",
    "\n",
    "import nltk\n",
    "from nltk.corpus import stopwords\n",
    "from nltk.stem import PorterStemmer\n",
    "\n",
    "from sklearn.feature_extraction.text import CountVectorizer\n",
    "from sklearn.feature_extraction.text import TfidfVectorizer\n",
    "\n",
    "from prettytable import PrettyTable\n",
    "\n",
    "from sklearn.naive_bayes import MultinomialNB\n",
    "\n",
    "from sklearn.metrics import accuracy_score\n",
    "from sklearn.metrics import precision_score\n",
    "from sklearn.metrics import f1_score\n",
    "from sklearn.metrics import recall_score\n",
    "from sklearn.metrics import confusion_matrix\n",
    "\n",
    "from sklearn.model_selection import GridSearchCV"
   ]
  },
  {
   "cell_type": "code",
   "execution_count": 2,
   "metadata": {},
   "outputs": [],
   "source": [
    "my_path = 'C:\\\\Users\\\\shrey\\\\Desktop\\\\ML-DL-NLP\\\\Projects\\\\Practice\\\\amazon-fine-food-reviews'\n",
    "df =  pd.read_csv(f'{my_path}/Reviews.csv')\n",
    "data = df"
   ]
  },
  {
   "cell_type": "code",
   "execution_count": 3,
   "metadata": {},
   "outputs": [],
   "source": [
    "#Removing Neural reviews\n",
    "data_s = data[data['Score']!=3]\n",
    "\n",
    "#Updating Score to 0 or 1\n",
    "def partition(x):\n",
    "    if x<3:\n",
    "        return 0\n",
    "    return 1\n",
    "\n",
    "score_upd = data_s['Score']\n",
    "temp = score_upd.map(partition)\n",
    "data_s['Score'] = temp"
   ]
  },
  {
   "cell_type": "code",
   "execution_count": 4,
   "metadata": {},
   "outputs": [],
   "source": [
    "final_data = data_s.drop_duplicates(subset=('UserId','ProfileName','Time','Text'))\n",
    "final = final_data[final_data['HelpfulnessNumerator']<=final_data['HelpfulnessDenominator']]"
   ]
  },
  {
   "cell_type": "code",
   "execution_count": 5,
   "metadata": {},
   "outputs": [],
   "source": [
    "final = final.head(250000)"
   ]
  },
  {
   "cell_type": "code",
   "execution_count": 6,
   "metadata": {},
   "outputs": [],
   "source": [
    "final = final.sort_values(['Time'], axis=0)   #TIme based sorting\n",
    "\n",
    "final_X = final['Text']\n",
    "final_y = final['Score']"
   ]
  },
  {
   "cell_type": "markdown",
   "metadata": {},
   "source": [
    "### ** Data preprocessing\n",
    "\n",
    "##### stopword\n",
    "\n",
    "##### stemming\n",
    "\n",
    "##### Punctuations removal"
   ]
  },
  {
   "cell_type": "code",
   "execution_count": 7,
   "metadata": {},
   "outputs": [],
   "source": [
    "#Splitting data into train and test\n",
    "X_train = final_X[:175000]\n",
    "X_test = final_X[175000:]\n",
    "y_train = final_y[:175000]\n",
    "y_test = final_y[175000:]"
   ]
  },
  {
   "cell_type": "markdown",
   "metadata": {},
   "source": [
    "### Naive Bayes on BOW"
   ]
  },
  {
   "cell_type": "code",
   "execution_count": 8,
   "metadata": {},
   "outputs": [],
   "source": [
    "count_vect = CountVectorizer(max_features = 5000)\n",
    "bow_X_train = count_vect.fit_transform(X_train)\n",
    "bow_X_test = count_vect.transform(X_test)"
   ]
  },
  {
   "cell_type": "code",
   "execution_count": 9,
   "metadata": {},
   "outputs": [
    {
     "name": "stdout",
     "output_type": "stream",
     "text": [
      "best alpha =  {'alpha': 0.1}\n",
      "Accuracy on train data =  90.12857142857142\n"
     ]
    }
   ],
   "source": [
    "alphas = [0.01,0.1,1,10,100]\n",
    "clf = MultinomialNB()\n",
    "param_grid = { 'alpha':alphas}\n",
    "grid = GridSearchCV(estimator = clf,param_grid=param_grid ,cv = 5,n_jobs = -1)\n",
    "grid.fit(bow_X_train, y_train)\n",
    "print(\"best alpha = \", grid.best_params_)\n",
    "print(\"Accuracy on train data = \", grid.best_score_*100)\n",
    "t_acc1 = grid.best_score_*100\n",
    "a = grid.best_params_\n",
    "optimal_a1 = a.get('alpha')"
   ]
  },
  {
   "cell_type": "code",
   "execution_count": 10,
   "metadata": {},
   "outputs": [
    {
     "name": "stdout",
     "output_type": "stream",
     "text": [
      "\n",
      "Accuracy=89.057333%\n",
      "\n",
      "precision=94.950900%\n",
      "\n",
      "recall=91.602942%\n",
      "\n",
      "F1-Score=93.246879%\n",
      "\n",
      " [[10132  3013]\n",
      " [ 5194 56661]]\n"
     ]
    }
   ],
   "source": [
    "clf = MultinomialNB(alpha = optimal_a1)\n",
    "\n",
    "clf.fit(bow_X_train,y_train)\n",
    "\n",
    "pred = clf.predict(bow_X_test)\n",
    "\n",
    "acc1 = accuracy_score(y_test, pred) * 100\n",
    "pre1 = precision_score(y_test, pred) * 100\n",
    "rec1 = recall_score(y_test, pred) * 100\n",
    "f11 = f1_score(y_test, pred) * 100\n",
    "\n",
    "print('\\nAccuracy=%f%%' % (acc1))\n",
    "print('\\nprecision=%f%%' % (pre1))\n",
    "print('\\nrecall=%f%%' % (rec1))\n",
    "print('\\nF1-Score=%f%%' % (f11))\n",
    "\n",
    "cm = confusion_matrix(y_test,pred)\n",
    "print(\"\\n\",cm)"
   ]
  },
  {
   "cell_type": "code",
   "execution_count": 11,
   "metadata": {},
   "outputs": [],
   "source": [
    "negative_log = list(map(abs,clf.feature_log_prob_))[0].argsort()[0:10]\n",
    "positive_log = list(map(abs,clf.feature_log_prob_))[1].argsort()[0:10]"
   ]
  },
  {
   "cell_type": "code",
   "execution_count": 12,
   "metadata": {},
   "outputs": [
    {
     "name": "stdout",
     "output_type": "stream",
     "text": [
      "Indices of most negative impacting words =  [4462  235 2300 4527 2990 4489  558 2293 2223 2936]\n",
      "Indices of most negative impacting words =  [4462  235 2300 4527 2990 2293 4489  558 2223 1748]\n"
     ]
    }
   ],
   "source": [
    "print(\"Indices of most negative impacting words = \", negative_log)\n",
    "print(\"Indices of most negative impacting words = \", positive_log)"
   ]
  },
  {
   "cell_type": "code",
   "execution_count": 13,
   "metadata": {},
   "outputs": [
    {
     "name": "stdout",
     "output_type": "stream",
     "text": [
      "Positve impacting words\n",
      "the\n",
      "and\n",
      "it\n",
      "to\n",
      "of\n",
      "is\n",
      "this\n",
      "br\n",
      "in\n",
      "for\n"
     ]
    }
   ],
   "source": [
    "\n",
    "print(\"Positve impacting words\")\n",
    "for index in positive_log:\n",
    "    for i in count_vect.vocabulary_:\n",
    "        if count_vect.vocabulary_[i] == index:\n",
    "            print(i)"
   ]
  },
  {
   "cell_type": "code",
   "execution_count": 14,
   "metadata": {},
   "outputs": [
    {
     "name": "stdout",
     "output_type": "stream",
     "text": [
      "negative impacting words\n",
      "the\n",
      "and\n",
      "it\n",
      "to\n",
      "of\n",
      "this\n",
      "br\n",
      "is\n",
      "in\n",
      "not\n"
     ]
    }
   ],
   "source": [
    "print(\"negative impacting words\")\n",
    "for index in negative_log:\n",
    "    for i in count_vect.vocabulary_:\n",
    "        if count_vect.vocabulary_[i] == index:\n",
    "            print(i)"
   ]
  },
  {
   "cell_type": "markdown",
   "metadata": {},
   "source": [
    "### Naive bayes on Tf-Idf"
   ]
  },
  {
   "cell_type": "code",
   "execution_count": 15,
   "metadata": {},
   "outputs": [],
   "source": [
    "tf_idf = TfidfVectorizer(max_features=5000)\n",
    "tf_X_train = tf_idf.fit_transform(X_train)\n",
    "tf_X_test = tf_idf.transform(X_test)"
   ]
  },
  {
   "cell_type": "code",
   "execution_count": 16,
   "metadata": {},
   "outputs": [
    {
     "name": "stdout",
     "output_type": "stream",
     "text": [
      "best alpha =  {'alpha': 0.01}\n",
      "Accuracy on train data =  87.9617142857143\n"
     ]
    }
   ],
   "source": [
    "alphas = [0.01,0.1,1,10,100]\n",
    "clf = MultinomialNB()\n",
    "param_grid = { 'alpha':alphas}\n",
    "grid = GridSearchCV(estimator = clf,param_grid=param_grid ,cv = 5,n_jobs = -1)\n",
    "grid.fit(tf_X_train, y_train)\n",
    "print(\"best alpha = \", grid.best_params_)\n",
    "print(\"Accuracy on train data = \", grid.best_score_*100)\n",
    "t_acc2 = grid.best_score_*100\n",
    "a = grid.best_params_\n",
    "optimal_a2 = a.get('alpha')"
   ]
  },
  {
   "cell_type": "code",
   "execution_count": 17,
   "metadata": {},
   "outputs": [
    {
     "name": "stdout",
     "output_type": "stream",
     "text": [
      "\n",
      "Accuracy=89.060000%\n",
      "\n",
      "precision=94.951069%\n",
      "\n",
      "recall=91.606176%\n",
      "\n",
      "F1-Score=93.248636%\n",
      "\n",
      " [[10132  3013]\n",
      " [ 5192 56663]]\n"
     ]
    }
   ],
   "source": [
    "clf = MultinomialNB(alpha = optimal_a2)\n",
    "\n",
    "clf.fit(bow_X_train,y_train)\n",
    "\n",
    "pred = clf.predict(bow_X_test)\n",
    "\n",
    "acc2 = accuracy_score(y_test, pred) * 100\n",
    "pre2 = precision_score(y_test, pred) * 100\n",
    "rec2 = recall_score(y_test, pred) * 100\n",
    "f12 = f1_score(y_test, pred) * 100\n",
    "\n",
    "print('\\nAccuracy=%f%%' % (acc2))\n",
    "print('\\nprecision=%f%%' % (pre2))\n",
    "print('\\nrecall=%f%%' % (rec2))\n",
    "print('\\nF1-Score=%f%%' % (f12))\n",
    "\n",
    "cm = confusion_matrix(y_test,pred)\n",
    "print(\"\\n\",cm)"
   ]
  },
  {
   "cell_type": "code",
   "execution_count": 18,
   "metadata": {},
   "outputs": [],
   "source": [
    "negative_log = list(map(abs,clf.feature_log_prob_))[0].argsort()[0:10]\n",
    "positive_log = list(map(abs,clf.feature_log_prob_))[1].argsort()[0:10]"
   ]
  },
  {
   "cell_type": "code",
   "execution_count": 19,
   "metadata": {},
   "outputs": [
    {
     "name": "stdout",
     "output_type": "stream",
     "text": [
      "Positve impacting words\n",
      "the\n",
      "and\n",
      "it\n",
      "to\n",
      "of\n",
      "is\n",
      "this\n",
      "br\n",
      "in\n",
      "for\n"
     ]
    }
   ],
   "source": [
    "print(\"Positve impacting words\")\n",
    "for index in positive_log:\n",
    "    for i in tf_idf.vocabulary_:\n",
    "        if tf_idf.vocabulary_[i] == index:\n",
    "            print(i)\n"
   ]
  },
  {
   "cell_type": "code",
   "execution_count": 20,
   "metadata": {},
   "outputs": [
    {
     "name": "stdout",
     "output_type": "stream",
     "text": [
      "Negative impacting words\n",
      "the\n",
      "and\n",
      "it\n",
      "to\n",
      "of\n",
      "this\n",
      "br\n",
      "is\n",
      "in\n",
      "not\n"
     ]
    }
   ],
   "source": [
    "print(\"Negative impacting words\")\n",
    "for index in negative_log:\n",
    "    for i in tf_idf.vocabulary_:\n",
    "        if tf_idf.vocabulary_[i] == index:\n",
    "            print(i)"
   ]
  },
  {
   "cell_type": "markdown",
   "metadata": {},
   "source": [
    "### Metrics using PrettyTable"
   ]
  },
  {
   "cell_type": "code",
   "execution_count": 21,
   "metadata": {},
   "outputs": [
    {
     "name": "stdout",
     "output_type": "stream",
     "text": [
      "+--------------+-------+--------------+----------------+-------------+---------------+--------------+-----------+-------------+\n",
      "|    Model     | Alpha | Train_Acc(%) | Train_Error(%) | Test_Acc(%) | Test_Error(%) | Precision(%) | Recall(%) | F1-Score(%) |\n",
      "+--------------+-------+--------------+----------------+-------------+---------------+--------------+-----------+-------------+\n",
      "|  NB on BoW   |  0.1  |    90.13     |      9.87      |    89.06    |     10.94     |    94.95     |    91.6   |    93.25    |\n",
      "| NB on Tf-Idf |  0.01 |    87.96     |     12.04      |    89.06    |     10.94     |    94.95     |   91.61   |    93.25    |\n",
      "+--------------+-------+--------------+----------------+-------------+---------------+--------------+-----------+-------------+\n"
     ]
    }
   ],
   "source": [
    "x = PrettyTable()\n",
    "\n",
    "model_1 = 'NB on BoW'\n",
    "model_2 = 'NB on Tf-Idf'\n",
    "x.field_names = [\"Model\",\"Alpha\",\"Train_Acc(%)\",\"Train_Error(%)\",\"Test_Acc(%)\",\"Test_Error(%)\",\"Precision(%)\",\"Recall(%)\",\"F1-Score(%)\"]\n",
    "\n",
    "t_acc1 = np.around(t_acc1, decimals = 2)\n",
    "t_err1 = np.around(100-t_acc1, decimals = 2)\n",
    "acc1 = np.around(acc1, decimals = 2)\n",
    "err1 = np.around(100-acc1, decimals = 2) \n",
    "pre1 = np.around(pre1, decimals = 2)\n",
    "rec1 = np.around(rec1, decimals = 2)\n",
    "f11 = np.around(f11, decimals = 2)\n",
    "\n",
    "t_acc2 = np.around(t_acc2, decimals = 2)\n",
    "t_err2 = np.around(100-t_acc2, decimals = 2)\n",
    "acc2 = np.around(acc2, decimals = 2)\n",
    "err2 = np.around(100-acc2, decimals = 2) \n",
    "pre2 = np.around(pre2, decimals = 2)\n",
    "rec2 = np.around(rec2, decimals = 2)\n",
    "f12 = np.around(f12, decimals = 2)\n",
    "\n",
    "x.add_row([model_1,optimal_a1,t_acc1,t_err1,acc1,err1,pre1,rec1,f11])\n",
    "x.add_row([model_2,optimal_a2,t_acc2,t_err2,acc2,err2,pre2,rec2,f12])\n",
    "\n",
    "print(x)"
   ]
  },
  {
   "cell_type": "code",
   "execution_count": 22,
   "metadata": {},
   "outputs": [
    {
     "name": "stdout",
     "output_type": "stream",
     "text": [
      "best C =  {}\n",
      "Accuracy on train data =  90.13428571428571\n"
     ]
    }
   ],
   "source": [
    "from sklearn.datasets import load_iris\n",
    "from sklearn.model_selection import GridSearchCV, StratifiedKFold, train_test_split\n",
    "from sklearn.naive_bayes import MultinomialNB\n",
    "lam = [0.001,0.01,0.1,1,10]\n",
    "clf = MultinomialNB()\n",
    "skf = StratifiedKFold(n_splits=10)\n",
    "params = {}\n",
    "param_grid = {'C':lam}\n",
    "grid = GridSearchCV(clf, cv=skf, param_grid=params, return_train_score=True)\n",
    "grid.fit(bow_X_train, y_train)\n",
    "print(\"best C = \", grid.best_params_)\n",
    "print(\"Accuracy on train data = \", grid.best_score_*100)\n",
    "a = grid.best_params_\n",
    "optimal_a1 = a.get('C')"
   ]
  },
  {
   "cell_type": "code",
   "execution_count": 24,
   "metadata": {},
   "outputs": [
    {
     "data": {
      "image/png": "[encoded data removed]",
      "text/plain": [
       "<Figure size 432x288 with 2 Axes>"
      ]
     },
     "metadata": {
      "needs_background": "light"
     },
     "output_type": "display_data"
    }
   ],
   "source": [
    "import seaborn as sns\n",
    "import matplotlib.pyplot as plt\n",
    "cm = confusion_matrix(y_test,pred)\n",
    "sns.heatmap(cm, annot=True,fmt='d')\n",
    "plt.title('Confusion Matrix')\n",
    "plt.show()"
   ]
  },
  {
   "cell_type": "markdown",
   "metadata": {},
   "source": [
    "### Summary and Observations\n",
    "#### 1.) Considered 250k data used TIME BASED SPLITIING\n",
    "#### 2.) Time based splitting done with the ratio as 70:30 = train:test\n",
    "#### 3.) In BoW model , got alpha= 0.1 and In Tf-Idf model alpha = 0.01.\n",
    "#### 4.) Used PrettyTable to make a table of all metrics for both models\n",
    "#### 5.) But if I see the both Positive and negative words that impact our model, both seems semantically similar, because those are the words that repeat most both classes"
   ]
  },
  {
   "cell_type": "code",
   "execution_count": null,
   "metadata": {},
   "outputs": [],
   "source": []
  }
 ],
 "metadata": {
  "kernelspec": {
   "display_name": "Python 3",
   "language": "python",
   "name": "python3"
  },
  "language_info": {
   "codemirror_mode": {
    "name": "ipython",
    "version": 3
   },
   "file_extension": ".py",
   "mimetype": "text/x-python",
   "name": "python",
   "nbconvert_exporter": "python",
   "pygments_lexer": "ipython3",
   "version": "3.6.8"
  }
 },
 "nbformat": 4,
 "nbformat_minor": 2
}
